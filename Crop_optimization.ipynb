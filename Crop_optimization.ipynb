{
  "nbformat": 4,
  "nbformat_minor": 0,
  "metadata": {
    "colab": {
      "provenance": [],
      "include_colab_link": true
    },
    "kernelspec": {
      "name": "python3",
      "display_name": "Python 3"
    },
    "language_info": {
      "name": "python"
    }
  },
  "cells": [
    {
      "cell_type": "markdown",
      "metadata": {
        "id": "view-in-github",
        "colab_type": "text"
      },
      "source": [
        "<a href=\"https://colab.research.google.com/github/bosbintang/python1/blob/main/Crop_optimization.ipynb\" target=\"_parent\"><img src=\"https://colab.research.google.com/assets/colab-badge.svg\" alt=\"Open In Colab\"/></a>"
      ]
    },
    {
      "cell_type": "code",
      "execution_count": null,
      "metadata": {
        "colab": {
          "base_uri": "https://localhost:8080/"
        },
        "id": "YVOwoT5abM5J",
        "outputId": "e2b8ca66-baf0-4a2f-8b97-cee4d8cfb461"
      },
      "outputs": [
        {
          "output_type": "stream",
          "name": "stdout",
          "text": [
            "Requirement already satisfied: pulp in /usr/local/lib/python3.7/dist-packages (2.6.0)\n"
          ]
        }
      ],
      "source": [
        "!pip install pulp"
      ]
    },
    {
      "cell_type": "code",
      "source": [
        "import pulp\n",
        "from typing import Iterable\n",
        "import numpy as np"
      ],
      "metadata": {
        "id": "0vL7rnXXerAA"
      },
      "execution_count": null,
      "outputs": []
    },
    {
      "cell_type": "code",
      "source": [
        "class Scenario:\n",
        "  def __init__(self, start_week: int, end_week: int, productivity: float, budget: float):\n",
        "    self._start_week = start_week\n",
        "    self._end_week = end_week\n",
        "    self._productivity = productivity\n",
        "    self._budget = budget\n",
        "\n",
        "\n",
        "class Vegetable:\n",
        "  def __init__(self, name: str, spacing: float, scenarios: Iterable[Scenario] = []):\n",
        "    _scenarios_input_validator(scenarios)\n",
        "    self.name = name\n",
        "    self.spacing = spacing\n",
        "    self.scenarios = scenarios\n",
        "\n",
        "  def add_scenario(self, scenario: Scenario):\n",
        "    self.scenarios.append(scenario)\n",
        "\n",
        "  def _build_scenario_matrix(self):\n",
        "    \"\"\"convert scenario into pulp variable\"\"\"\n",
        "    scenario_matrix = list()\n",
        "    scenario_vars = list()\n",
        "    for i, scenario in enumerate(self.scenarios):\n",
        "      scenario_name = \"{}_S_{}\".format(self.name, i+1)\n",
        "      scenario_var = pulp.LpVariable(scenario_name, lowBound=0, cat=\"Integer\")\n",
        "\n",
        "      # put scenario_var in a 52week list, 0 if not within scenario week range\n",
        "      # e.g. [tomato_s_1, tomato_s_1, .., 0 0 0 0 0 0 0]\n",
        "      scenario_var_52week = [\n",
        "        scenario_var\n",
        "        if k+1 >= scenario._start_week and k+1<= scenario._end_week\n",
        "        else 0\n",
        "        for k in range(52)\n",
        "      ]\n",
        "      \n",
        "      scenario_matrix.append(scenario_var_52week)\n",
        "      scenario_vars.append(scenario_var)\n",
        "\n",
        "    # insert this property to the object\n",
        "    # convert scenario matrix as numpy array for easier matrix operation\n",
        "    self.scenario_matrix = np.array(scenario_matrix)\n",
        "    self.scenario_vars = np.array(scenario_vars)\n",
        "    self.scenario_productivity = np.array([s._productivity for s in self.scenarios])\n",
        "    self.scenario_budget = np.array([s._budget for s in self.scenarios])\n",
        "    \n",
        "\n",
        "def _scenarios_input_validator(scenarios):\n",
        "  if isinstance(scenarios, Iterable):\n",
        "    for item in scenarios:\n",
        "      if not(isinstance(item, Scenario)):\n",
        "        raise(Exception(\"Please input list of scenario as the arguments\"))"
      ],
      "metadata": {
        "id": "5S-5QlWfcsPP"
      },
      "execution_count": null,
      "outputs": []
    },
    {
      "cell_type": "code",
      "source": [
        "class UserInput:\n",
        "  LAND_SIZE = 0\n",
        "  BUDGET = 0\n",
        "  __TARGET_YIELDS = []\n",
        "  def add_target_yields(self, name, target):\n",
        "    self.__TARGET_YIELDS.append((name, target))\n",
        "\n",
        "  @property\n",
        "  def TARGET_YIELDS(self):\n",
        "    return dict(self.__TARGET_YIELDS)\n",
        "\n",
        "class ModelBuilder:\n",
        "  def __init__(self, vegetables: Iterable[Vegetable], user_input: UserInput, objective=\"max_output\"):\n",
        "    self.vegetables = vegetables\n",
        "    self.problem = pulp.LpProblem('Problem', pulp.LpMaximize)\n",
        "    self.user_input = user_input\n",
        "    self.objective = objective\n",
        "    self.status = \"no status\"\n",
        "\n",
        "  def optimize(self):\n",
        "    # build scenario matrix for each vegetables\n",
        "    for veg in self.vegetables:\n",
        "      veg._build_scenario_matrix()\n",
        "\n",
        "    # TODO : add obj function\n",
        "    self._add_objective_function()\n",
        "\n",
        "    # define constraint\n",
        "    self._add_constraints_area()\n",
        "    self._add_constraints_budget()\n",
        "    self._add_constraints_minimum_output()\n",
        "\n",
        "    # solve the problems\n",
        "    self.status = self.problem.solve()\n",
        "\n",
        "  def _add_objective_function(self):\n",
        "      if self.objective == \"max_output\":\n",
        "        self._add_objective_max_output()\n",
        "      else:\n",
        "        raise(Exception(\"WRONG objective function\"))\n",
        "\n",
        "  def _add_objective_max_output(self):\n",
        "    obj = pulp.lpSum([\n",
        "      np.sum(veg.scenario_vars.dot(veg.scenario_productivity))\n",
        "      for veg in self.vegetables\n",
        "    ])\n",
        "    self.problem += obj\n",
        "\n",
        "  def _add_constraints_area(self):\n",
        "    for k in range(52):\n",
        "      # sum vertically for each week\n",
        "      constr = pulp.lpSum([\n",
        "        np.sum(vegs.scenario_matrix, axis=0)[k]*vegs.spacing\n",
        "        for vegs in self.vegetables\n",
        "      ]) <= self.user_input.LAND_SIZE\n",
        "      self.problem += constr\n",
        "  \n",
        "  def _add_constraints_budget(self):\n",
        "    self.problem += pulp.lpSum([\n",
        "      np.sum(veg.scenario_vars.dot(veg.scenario_budget))\n",
        "      for veg in self.vegetables\n",
        "    ]) <= self.user_input.BUDGET\n",
        "    \n",
        "  def _add_constraints_minimum_output(self):\n",
        "    for veg in self.vegetables:\n",
        "      self.problem += (\n",
        "          pulp.lpSum(veg.scenario_vars.dot(veg.scenario_productivity)) \n",
        "          >= self.user_input.TARGET_YIELDS.get(veg.name)\n",
        "      )\n",
        "    \n",
        "\n"
      ],
      "metadata": {
        "id": "zoLQu390n4S_"
      },
      "execution_count": null,
      "outputs": []
    },
    {
      "cell_type": "markdown",
      "source": [
        "-----------"
      ],
      "metadata": {
        "id": "-2ZC2QKycE1O"
      }
    },
    {
      "cell_type": "markdown",
      "source": [
        "# Example"
      ],
      "metadata": {
        "id": "VRAEbwgza2Le"
      }
    },
    {
      "cell_type": "code",
      "source": [
        "## Creating vegetable object (plant week start, plant week end, area used, budget used)\n",
        "scenario_tomato = [\n",
        "    Scenario(11,30,6,1000),\n",
        "    Scenario(12,31,6,1000),\n",
        "    Scenario(13,32,6,1000),\n",
        "    Scenario(14,33,6,1000),\n",
        "    Scenario(15,34,6,1000),\n",
        "    Scenario(16,35,6,1000),\n",
        "    Scenario(17,36,6,1000)\n",
        "]\n",
        "\n",
        "scenario_lettuce = [\n",
        "    Scenario(9,21,3,1200),\n",
        "    Scenario(10,22,3,1200),\n",
        "    Scenario(11,23,3,1200),\n",
        "    Scenario(12,24,3,1200),\n",
        "    Scenario(13,25,3,1200),\n",
        "    Scenario(32,43,3,1200),\n",
        "    Scenario(33,44,3,1200),\n",
        "    Scenario(34,45,3,1200),\n",
        "    Scenario(35,46,3,1200),\n",
        "    Scenario(36,47,3,1200)\n",
        "]\n",
        "\n",
        "scenario_carrot = [\n",
        "    Scenario(8,24,4,1500),\n",
        "    Scenario(9,25,4,1500),\n",
        "    Scenario(10,26,4,1500),\n",
        "    Scenario(11,27,4,1500),\n",
        "    Scenario(12,28,4,1500),\n",
        "    Scenario(13,29,4,1500),\n",
        "    Scenario(27,44,4,1500),\n",
        "    Scenario(28,45,4,1500),\n",
        "    Scenario(29,46,4,1500),\n",
        "    Scenario(30,47,4,1500)\n",
        "]\n",
        "\n",
        "scenario_eggplant = [\n",
        "    Scenario(12,31,4,1000),\n",
        "    Scenario(13,32,4,1000),\n",
        "    Scenario(14,33,4,1000),\n",
        "    Scenario(15,34,4,1000),\n",
        "    Scenario(16,35,4,1000),\n",
        "    Scenario(17,36,4,1000),\n",
        "    Scenario(18,37,4,1000)\n",
        "]\n",
        "\n",
        "tomato = Vegetable('tomato', 10, scenario_tomato)\n",
        "carrot = Vegetable('carrot', 10, scenario_carrot)\n",
        "lettuce = Vegetable('lettuce', 10, scenario_lettuce)\n",
        "eggplant = Vegetable('eggplant', 10, scenario_eggplant)"
      ],
      "metadata": {
        "id": "cgv2Ygx1a4Tz"
      },
      "execution_count": null,
      "outputs": []
    },
    {
      "cell_type": "code",
      "source": [
        "# build user input\n",
        "\n",
        "user_input = UserInput()\n",
        "user_input.LAND_SIZE = 200\n",
        "user_input.BUDGET = 100000\n",
        "user_input.add_target_yields('tomato', 100)\n",
        "user_input.add_target_yields('lettuce', 100)\n",
        "user_input.add_target_yields('carrot', 100)\n",
        "user_input.add_target_yields('eggplant', 100)"
      ],
      "metadata": {
        "id": "TPM9NyP0cKih"
      },
      "execution_count": null,
      "outputs": []
    },
    {
      "cell_type": "code",
      "source": [
        "# build optimization model\n",
        "\n",
        "model = ModelBuilder([tomato, carrot, lettuce, eggplant], user_input)\n",
        "model.optimize()\n",
        "\n",
        "## TODO :\n",
        "# model.result_summary()"
      ],
      "metadata": {
        "id": "QNzqQpcFcXVT"
      },
      "execution_count": null,
      "outputs": []
    },
    {
      "cell_type": "code",
      "source": [
        "for veg in model.vegetables:\n",
        "  for var, scenario in zip(veg.scenario_vars, veg.scenarios):\n",
        "    if var.varValue > 0:\n",
        "      print(\n",
        "          \"plant\", \n",
        "          var.varValue, \n",
        "          \"unit of\", \n",
        "          veg.name, \n",
        "          \"| Start at\", \n",
        "          scenario._start_week, \n",
        "          \"th week, end at\", \n",
        "          scenario._end_week, \n",
        "          \"th week.\"\n",
        "      )"
      ],
      "metadata": {
        "colab": {
          "base_uri": "https://localhost:8080/"
        },
        "id": "5eiQkcL9pJa2",
        "outputId": "fe6d5334-3602-4351-c6cb-a20b8210e251"
      },
      "execution_count": null,
      "outputs": [
        {
          "output_type": "stream",
          "name": "stdout",
          "text": [
            "plant 30.0 unit of carrot | Start at 11 th week, end at 27 th week.\n",
            "plant 25.0 unit of lettuce | Start at 33 th week, end at 44 th week.\n",
            "plant 20.0 unit of lettuce | Start at 36 th week, end at 47 th week.\n",
            "plant 25.0 unit of eggplant | Start at 13 th week, end at 32 th week.\n",
            "plant 20.0 unit of eggplant | Start at 16 th week, end at 35 th week.\n"
          ]
        }
      ]
    },
    {
      "cell_type": "markdown",
      "source": [
        "# Mathematical Model\n",
        "\n",
        "## Objective Function \n",
        "Maximizing expected yields <br>\n",
        "<center>$max(A + B + C - 0.5*(A - targetA + B - targetB + C - targetC)$</center>\n",
        "(other option, maximizing land used, or minimizing deviation, or minimizing cost)\n",
        "$S^{(i)} = \\{s^{(i)}_1, s^{(i)}_2, ..., s^{(i)}_j, ..., s^{(i)}_{n_i}\\}$ : is a matrix of scenario.... <br>\n",
        "$s^{(i)}_j = \\{s^{(i)}_{jk}\\}_{k=1 ... 52}$<br>\n",
        "$i$ : index of plant <br>\n",
        "$j$ : index of scenario <br>\n",
        "$k$ : index of week <br>\n",
        "$N$ : number of vegetables <br>\n",
        "$n_i$ : number of scenario of vegetable-i <br>\n",
        "$A$ : total Area <br>\n",
        "$a^{(i)}$ : allocated land for plant-i for each unit of $s_{jk}^{(i)}$<br>\n",
        "\n",
        "So total area being used by plant i scenario j and week k is $s_{jk}^{(i)}*a^{(i)}$\n",
        "\n",
        "## List of constraint\n",
        "1.  For every week, land used should not exceed maximum land used <br>\n",
        "for k=1...52, where k is index of week <br>\n",
        "$\\sum_{i=1}^{N} \\sum_{j=1}^{n_i} s_{jk}^{(i)}*a^{(i)} \\leq A $\n",
        "\n",
        "2. Cost to plant should not exceed the budget\n",
        "...\n",
        "\n",
        "3. Expected yields should higher than minimum target\n",
        "...\n",
        "\n"
      ],
      "metadata": {
        "id": "D1ScHYipRi1G"
      }
    }
  ]
}